{
 "cells": [
  {
   "cell_type": "markdown",
   "id": "7f71692a",
   "metadata": {},
   "source": [
    "## Nested Functions"
   ]
  },
  {
   "cell_type": "code",
   "execution_count": 3,
   "id": "9b68c0c0",
   "metadata": {},
   "outputs": [],
   "source": [
    "def outer():\n",
    "    x = 3\n",
    "    def inner():\n",
    "        print(x)\n",
    "    return inner()"
   ]
  },
  {
   "cell_type": "code",
   "execution_count": 4,
   "id": "6109469a",
   "metadata": {},
   "outputs": [
    {
     "name": "stdout",
     "output_type": "stream",
     "text": [
      "3\n"
     ]
    }
   ],
   "source": [
    "outer()"
   ]
  },
  {
   "cell_type": "code",
   "execution_count": null,
   "id": "9f4b6c7f",
   "metadata": {},
   "outputs": [],
   "source": []
  }
 ],
 "metadata": {
  "kernelspec": {
   "display_name": "Python 3 (ipykernel)",
   "language": "python",
   "name": "python3"
  },
  "language_info": {
   "codemirror_mode": {
    "name": "ipython",
    "version": 3
   },
   "file_extension": ".py",
   "mimetype": "text/x-python",
   "name": "python",
   "nbconvert_exporter": "python",
   "pygments_lexer": "ipython3",
   "version": "3.9.12"
  }
 },
 "nbformat": 4,
 "nbformat_minor": 5
}
