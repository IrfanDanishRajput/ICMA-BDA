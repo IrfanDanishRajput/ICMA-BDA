{
 "cells": [
  {
   "cell_type": "markdown",
   "id": "c891d5f4",
   "metadata": {},
   "source": [
    "# TimeDelta"
   ]
  },
  {
   "cell_type": "code",
   "execution_count": 2,
   "id": "27f61bfd",
   "metadata": {},
   "outputs": [],
   "source": [
    "import datetime as dt"
   ]
  },
  {
   "cell_type": "code",
   "execution_count": 5,
   "id": "056786d1",
   "metadata": {},
   "outputs": [
    {
     "data": {
      "text/plain": [
       "datetime.datetime(2022, 7, 17, 11, 44, 9, 12399)"
      ]
     },
     "execution_count": 5,
     "metadata": {},
     "output_type": "execute_result"
    }
   ],
   "source": [
    "current_timestamp = dt.datetime.now()\n",
    "current_timestamp"
   ]
  },
  {
   "cell_type": "code",
   "execution_count": 7,
   "id": "4a2a803d",
   "metadata": {},
   "outputs": [
    {
     "data": {
      "text/plain": [
       "'Sunday July 17'"
      ]
     },
     "execution_count": 7,
     "metadata": {},
     "output_type": "execute_result"
    }
   ],
   "source": [
    "current_timestamp.strftime(\"%A %B %d\")"
   ]
  },
  {
   "cell_type": "code",
   "execution_count": 9,
   "id": "10d2928d",
   "metadata": {},
   "outputs": [
    {
     "data": {
      "text/plain": [
       "datetime.datetime(2022, 8, 11, 11, 44, 9, 12399)"
      ]
     },
     "execution_count": 9,
     "metadata": {},
     "output_type": "execute_result"
    }
   ],
   "source": [
    "new_batch = dt.timedelta(days=25)\n",
    "current_timestamp + new_batch"
   ]
  },
  {
   "cell_type": "markdown",
   "id": "e1c8e06f",
   "metadata": {},
   "source": [
    "# assignment meeting duration in potus_visitors dataset"
   ]
  },
  {
   "cell_type": "code",
   "execution_count": null,
   "id": "959d0723",
   "metadata": {},
   "outputs": [],
   "source": []
  }
 ],
 "metadata": {
  "kernelspec": {
   "display_name": "Python 3 (ipykernel)",
   "language": "python",
   "name": "python3"
  },
  "language_info": {
   "codemirror_mode": {
    "name": "ipython",
    "version": 3
   },
   "file_extension": ".py",
   "mimetype": "text/x-python",
   "name": "python",
   "nbconvert_exporter": "python",
   "pygments_lexer": "ipython3",
   "version": "3.9.12"
  }
 },
 "nbformat": 4,
 "nbformat_minor": 5
}
