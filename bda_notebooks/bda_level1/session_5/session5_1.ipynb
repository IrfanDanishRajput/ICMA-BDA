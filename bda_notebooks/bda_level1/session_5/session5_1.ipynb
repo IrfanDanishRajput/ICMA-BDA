{
 "cells": [
  {
   "cell_type": "code",
   "execution_count": 1,
   "id": "7368d47b",
   "metadata": {},
   "outputs": [
    {
     "data": {
      "text/plain": [
       "[2, 23, 26]"
      ]
     },
     "execution_count": 1,
     "metadata": {},
     "output_type": "execute_result"
    }
   ],
   "source": [
    "float_list = [2.3,23.4,26.6]\n",
    "\n",
    "int_list = [int(i) for i in float_list]\n",
    "int_list"
   ]
  },
  {
   "cell_type": "code",
   "execution_count": 2,
   "id": "45385864",
   "metadata": {},
   "outputs": [
    {
     "data": {
      "text/plain": [
       "[23, 26]"
      ]
     },
     "execution_count": 2,
     "metadata": {},
     "output_type": "execute_result"
    }
   ],
   "source": [
    "greater_than_15 = [int(i) for i in float_list if i > 15]\n",
    "greater_than_15"
   ]
  },
  {
   "cell_type": "code",
   "execution_count": null,
   "id": "bf771bc1",
   "metadata": {},
   "outputs": [],
   "source": []
  }
 ],
 "metadata": {
  "kernelspec": {
   "display_name": "Python 3 (ipykernel)",
   "language": "python",
   "name": "python3"
  },
  "language_info": {
   "codemirror_mode": {
    "name": "ipython",
    "version": 3
   },
   "file_extension": ".py",
   "mimetype": "text/x-python",
   "name": "python",
   "nbconvert_exporter": "python",
   "pygments_lexer": "ipython3",
   "version": "3.9.12"
  }
 },
 "nbformat": 4,
 "nbformat_minor": 5
}
