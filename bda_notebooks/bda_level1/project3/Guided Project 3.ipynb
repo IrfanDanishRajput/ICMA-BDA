{
 "cells": [
  {
   "cell_type": "markdown",
   "metadata": {},
   "source": [
    "In this project, we'll work with a data set of submissions to popular technology site [Hacker News](https://news.ycombinator.com/)."
   ]
  },
  {
   "cell_type": "markdown",
   "metadata": {},
   "source": [
    "Hacker News is a site started by the startup incubator [Y Combinator](https://www.ycombinator.com/), where user-submitted stories (known as **posts**) are voted and commented upon, similar to reddit."
   ]
  },
  {
   "cell_type": "markdown",
   "metadata": {},
   "source": [
    "Below are descriptions of the columns in the dataset:\n",
    "\n",
    "- `id`: The unique identifier from Hacker News for the post\n",
    "- `title`: The title of the post\n",
    "- `url`: The URL that the posts links to, if it the post has a URL\n",
    "- `num_points`: The number of points the post acquired, calculated as the total number of upvotes minus the total number of downvotes\n",
    "- `num_comments`: The number of comments that were made on the post\n",
    "- `author`: The username of the person who submitted the post\n",
    "- `created_at`: The date and time at which the post was submitted"
   ]
  },
  {
   "cell_type": "markdown",
   "metadata": {},
   "source": [
    "We're specifically interested in posts whose titles begin with either **Ask HN** or **Show HN**. Users submit **Ask HN** posts to ask the Hacker News community a specific question. Below are a couple examples:\n",
    "\n",
    "1. `Ask HN`: How to improve my personal website?\n",
    "2. `Ask HN`: Am I the only one outraged by Twitter shutting down share counts?\n",
    "3. `Ask HN`: Aby recent changes to CSS that broke mobile?"
   ]
  },
  {
   "cell_type": "markdown",
   "metadata": {},
   "source": [
    "Likewise, users submit `Show HN` posts to show the Hacker News community a project, product, or just generally something interesting. Below are a couple of examples:\n",
    "\n",
    "1. `Show HN`: Wio Link  ESP8266 Based Web of Things Hardware Development Platform'\n",
    "2. `Show HN`: Something pointless I made\n",
    "3. `Show HN`: Shanhu.io, a programming playground powered by e8vm"
   ]
  },
  {
   "cell_type": "markdown",
   "metadata": {},
   "source": [
    "We'll compare these two types of posts to determine the following:\n",
    "\n",
    "1. Do `Ask HN` or `Show HN` receive more comments on average?\n",
    "\n",
    "2. Do posts created at a certain time receive more comments on average?"
   ]
  },
  {
   "cell_type": "markdown",
   "metadata": {},
   "source": [
    "# Task1: Extract Ask HN and Show HN Posts\n",
    "\n",
    "You'll identify posts that begin with either `Ask HN` or `Show HN` and separate the data for those two types of posts into different lists."
   ]
  },
  {
   "cell_type": "markdown",
   "metadata": {},
   "source": [
    "# Task2: Calculating the Average Number of Comments for Ask HN and Show HN Posts\n",
    "\n",
    "Uou have separated ask posts and show posts into different lists. Now you'll calculate the average number of comments each type of post receives."
   ]
  },
  {
   "cell_type": "markdown",
   "metadata": {},
   "source": [
    "# Task3: Finding the Amount of Ask Posts and Comments by Hour Created\n",
    "\n",
    "You'll find the amount of ask posts created during each hour of day, along with the number of comments those posts received. Then, you'll calculate the average amount of comments ask posts created at each hour of the day receive."
   ]
  },
  {
   "cell_type": "code",
   "execution_count": null,
   "metadata": {},
   "outputs": [],
   "source": []
  }
 ],
 "metadata": {
  "kernelspec": {
   "display_name": "Python 3 (ipykernel)",
   "language": "python",
   "name": "python3"
  },
  "language_info": {
   "codemirror_mode": {
    "name": "ipython",
    "version": 3
   },
   "file_extension": ".py",
   "mimetype": "text/x-python",
   "name": "python",
   "nbconvert_exporter": "python",
   "pygments_lexer": "ipython3",
   "version": "3.9.12"
  }
 },
 "nbformat": 4,
 "nbformat_minor": 2
}
